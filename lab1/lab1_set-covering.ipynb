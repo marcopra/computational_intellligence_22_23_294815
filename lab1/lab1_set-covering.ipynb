{
 "cells": [
  {
   "cell_type": "markdown",
   "metadata": {
    "pycharm": {
     "name": "#%% md\n"
    }
   },
   "source": [
    "Copyright **`(c)`** 2022 Giovanni Squillero `<squillero@polito.it>`  \n",
    "[`https://github.com/squillero/computational-intelligence`](https://github.com/squillero/computational-intelligence)  \n",
    "Free for personal or classroom use; see [`LICENSE.md`](https://github.com/squillero/computational-intelligence/blob/master/LICENSE.md) for details.  \n"
   ]
  },
  {
   "cell_type": "markdown",
   "metadata": {
    "pycharm": {
     "name": "#%%\n"
    }
   },
   "source": [
    "# Lab 1: Set Covering\n",
    "\n",
    "First lab + peer review. List this activity in your final report, it will be part of your exam.\n",
    "\n",
    "## Task\n",
    "\n",
    "Given a number $N$ and some lists of integers $P = (L_0, L_1, L_2, ..., L_n)$, \n",
    "determine is possible $S = (L_{s_0}, L_{s_1}, L_{s_2}, ..., L_{s_n})$\n",
    "such that each number between $0$ and $N-1$ appears in at least one list\n",
    "\n",
    "$$\\forall n \\in [0, N-1] \\ \\exists i : n \\in L_{s_i}$$\n",
    "\n",
    "and that the total numbers of elements in all $L_{s_i}$ is minimum. \n",
    "\n",
    "## Instructions\n",
    "\n",
    "* Create the directory `lab1` inside the course repo (the one you registered with Andrea)\n",
    "* Put a `README.md` and your solution (all the files, code and auxiliary data if needed)\n",
    "* Use `problem` to generate the problems with different $N$\n",
    "* In the `README.md`, report the the total numbers of elements in $L_{s_i}$ for problem with $N \\in [5, 10, 20, 100, 500, 1000]$ and the total number on $nodes$ visited during the search. Use `seed=42`.\n",
    "* Use `GitHub Issues` to peer review others' lab\n",
    "\n",
    "## Notes\n",
    "\n",
    "* Working in group is not only allowed, but recommended (see: [Ubuntu](https://en.wikipedia.org/wiki/Ubuntu_philosophy) and [Cooperative Learning](https://files.eric.ed.gov/fulltext/EJ1096789.pdf)). Collaborations must be explicitly declared in the `README.md`.\n",
    "* [Yanking](https://www.emacswiki.org/emacs/KillingAndYanking) from the internet is allowed, but sources must be explicitly declared in the `README.md`.\n",
    "\n",
    "**Deadline**\n",
    "\n",
    "* Sunday, October 16th 23:59:59 for the working solution\n",
    "* Sunday, October 23rd 23:59:59 for the peer reviews"
   ]
  },
  {
   "cell_type": "code",
   "execution_count": 1,
   "metadata": {},
   "outputs": [],
   "source": [
    "from operator import index\n",
    "import random\n",
    "import sys\n",
    "from time import time\n",
    "import numpy as np\n",
    "import logging\n",
    "from collections import Counter\n",
    "\n",
    "N_total = [5, 10, 14, 20] #, 100, 500, 1000]"
   ]
  },
  {
   "cell_type": "code",
   "execution_count": 2,
   "metadata": {},
   "outputs": [],
   "source": [
    "def problem(N, seed=42):\n",
    "    random.seed(seed)\n",
    "    return [\n",
    "        list(set(random.randint(0, N - 1) for n in range(random.randint(N // 5, N // 2))))\n",
    "        for n in range(random.randint(N, N * 5))\n",
    "    ]"
   ]
  },
  {
   "cell_type": "code",
   "execution_count": 3,
   "metadata": {},
   "outputs": [],
   "source": [
    "class State():\n",
    "    \"\"\"Class for states in A* alghoritm\"\"\"\n",
    "\n",
    "    def __init__(self, state, number_found, g, h, remaining_list = []):\n",
    "        self.g = g\n",
    "        self.h = h\n",
    "        self.f = g + h\n",
    "\n",
    "        self.remaining_list = remaining_list\n",
    "        self.state = state\n",
    "        self.number_found = number_found\n",
    "        "
   ]
  },
  {
   "cell_type": "code",
   "execution_count": 4,
   "metadata": {},
   "outputs": [],
   "source": [
    "def preprocessing(list_of_lists):\n",
    "\n",
    "    list_of_lists =  sorted(list_of_lists, key = lambda l : len(l))\n",
    "\n",
    "    return list_of_lists"
   ]
  },
  {
   "cell_type": "code",
   "execution_count": 5,
   "metadata": {},
   "outputs": [],
   "source": [
    "def greedy_best_first(N):\n",
    "    goal = set(range(N))\n",
    "    solution = []\n",
    "    start_problem = preprocessing(problem(N))\n",
    "    \n",
    "    number_found = set()\n",
    "    n_of_visited_nodes = 0\n",
    "    \n",
    "    while goal > number_found:\n",
    "        n_of_visited_nodes+=1    \n",
    "        element = start_problem.pop(0)\n",
    "        if set(element) | number_found > number_found: \n",
    "            number_found = set(element) | number_found\n",
    "            solution.append(element)\n",
    "    \n",
    "    print(f\"\\nSolution using Greedy Best-First algotithm with N = {N} =>\\n\\t W = {sum(len(element) for element in solution)} \\n\\t N of VISITED NODES = {n_of_visited_nodes}\")\n",
    "    # print(f\"Solution {solution}\")\n"
   ]
  },
  {
   "cell_type": "code",
   "execution_count": 6,
   "metadata": {},
   "outputs": [],
   "source": [
    "#Actual Cost\n",
    "def g(solution):\n",
    "    cnt = Counter()\n",
    "    \n",
    "    \n",
    "    state = [tuple(sol) for sol in solution]\n",
    "\n",
    "    cnt.update(sum((e for e in state), start=()))\n",
    "    # return sum(cnt[c] - 1 for c in cnt if cnt[c] > 1) + sum(len(element)  for element in solution) \n",
    "    # print(f\"A: {sum(len(element) for element in solution)} = {sum(cnt[c] - 1 for c in cnt if cnt[c] > 1)} + {sum(cnt[c] == 1 for c in cnt)}\")\n",
    "    # return sum(len(element) for element in solution) - sum(cnt[c] == 1 for c in cnt)\n",
    "    return sum(len(element) for element in solution) + len(solution[-1])"
   ]
  },
  {
   "cell_type": "code",
   "execution_count": 7,
   "metadata": {},
   "outputs": [],
   "source": [
    "#Heuristic Cost\n",
    "def h(N, number_found):\n",
    "    return (N - (len(number_found)))"
   ]
  },
  {
   "cell_type": "code",
   "execution_count": 8,
   "metadata": {},
   "outputs": [],
   "source": [
    "def a_star(N):\n",
    "\n",
    "    n_of_visited_nodes = 0\n",
    "    start_problem = problem(N)\n",
    "    goal = set(range(N))\n",
    "    state_list = []\n",
    "\n",
    "    open_states = []\n",
    "    \n",
    "    for ind, element in enumerate(start_problem):\n",
    "        n_of_visited_nodes += 1\n",
    "        state_list.append(element)\n",
    "        temp_state = State(state_list, set(element) ,g(state_list), h(N, set(element)))\n",
    "        open_states.append(temp_state)\n",
    "        state_list = []\n",
    "    \n",
    "\n",
    "    while True:\n",
    "    \n",
    "        ind = 0\n",
    "        current_state = open_states[ind]\n",
    "\n",
    "        for indice, open_state in enumerate(open_states):\n",
    "\n",
    "            if open_state.f < current_state.f:\n",
    "                current_state = open_state\n",
    "                ind = indice\n",
    "        \n",
    "        open_states.pop(ind)\n",
    "    \n",
    "        number_found = current_state.number_found      \n",
    "\n",
    "        if number_found >= goal:\n",
    "            print(\"solution :\", current_state.state)\n",
    "            print(\"W: \", sum(len(element) for element in current_state.state))\n",
    "            return\n",
    "\n",
    "        curr_state = current_state.state\n",
    "        \n",
    "        for element in start_problem:\n",
    "            \n",
    "            #Needed to not have duplicates\n",
    "            if element not in current_state.state:\n",
    "                n_of_visited_nodes += 1\n",
    "                state_list = curr_state.copy()\n",
    "                state_list.append(element)\n",
    "                number_found = set(element) | current_state.number_found\n",
    "\n",
    "                temp_state = State(state_list, number_found ,g(state_list), h(N, number_found))\n",
    "                \n",
    "                if temp_state.number_found >= goal:\n",
    "                    print(f\"\\nSolution using A* algotithm with N = {N} =>\\n\\t W = {sum(len(element) for element in temp_state.state)} \\n\\t N of VISITED NODES = {n_of_visited_nodes}\")\n",
    "                    print(f\"Solution {temp_state.state}\")\n",
    "                    return\n",
    "\n",
    "                open_states.append(temp_state)\n",
    "\n"
   ]
  },
  {
   "cell_type": "code",
   "execution_count": 9,
   "metadata": {},
   "outputs": [],
   "source": [
    "# for n in N_total:\n",
    "#     st = time()\n",
    "#     greedy_best_first(n)\n",
    "#     et = time()\n",
    "#     print(f\"Elapsed Time = {et-st}seconds\")"
   ]
  },
  {
   "cell_type": "code",
   "execution_count": 10,
   "metadata": {},
   "outputs": [
    {
     "name": "stdout",
     "output_type": "stream",
     "text": [
      "\n",
      "Solution using A* algotithm with N = 5 =>\n",
      "\t W = 5 \n",
      "\t N of VISITED NODES = 4558\n",
      "Solution [[0], [1], [4], [2, 3]]\n",
      "Elapsed Time = 0.11469244956970215seconds\n",
      "\n",
      "Solution using A* algotithm with N = 10 =>\n",
      "\t W = 10 \n",
      "\t N of VISITED NODES = 27231\n",
      "Solution [[0, 4], [9, 6], [2, 5], [8, 1, 3, 7]]\n",
      "Elapsed Time = 1.6015267372131348seconds\n",
      "Unexpected exception formatting exception. Falling back to standard exception\n"
     ]
    },
    {
     "name": "stderr",
     "output_type": "stream",
     "text": [
      "Traceback (most recent call last):\n",
      "  File \"c:\\Users\\marco\\anaconda3\\envs\\venv\\lib\\site-packages\\IPython\\core\\interactiveshell.py\", line 3398, in run_code\n",
      "    exec(code_obj, self.user_global_ns, self.user_ns)\n",
      "  File \"C:\\Users\\marco\\AppData\\Local\\Temp\\ipykernel_11684\\1400987408.py\", line 3, in <cell line: 1>\n",
      "    a_star(n)\n",
      "  File \"C:\\Users\\marco\\AppData\\Local\\Temp\\ipykernel_11684\\895157113.py\", line -1, in a_star\n",
      "KeyboardInterrupt\n",
      "\n",
      "During handling of the above exception, another exception occurred:\n",
      "\n",
      "Traceback (most recent call last):\n",
      "  File \"c:\\Users\\marco\\anaconda3\\envs\\venv\\lib\\site-packages\\IPython\\core\\interactiveshell.py\", line 1993, in showtraceback\n",
      "    stb = self.InteractiveTB.structured_traceback(\n",
      "  File \"c:\\Users\\marco\\anaconda3\\envs\\venv\\lib\\site-packages\\IPython\\core\\ultratb.py\", line 1118, in structured_traceback\n",
      "    return FormattedTB.structured_traceback(\n",
      "  File \"c:\\Users\\marco\\anaconda3\\envs\\venv\\lib\\site-packages\\IPython\\core\\ultratb.py\", line 1012, in structured_traceback\n",
      "    return VerboseTB.structured_traceback(\n",
      "  File \"c:\\Users\\marco\\anaconda3\\envs\\venv\\lib\\site-packages\\IPython\\core\\ultratb.py\", line 865, in structured_traceback\n",
      "    formatted_exception = self.format_exception_as_a_whole(etype, evalue, etb, number_of_lines_of_context,\n",
      "  File \"c:\\Users\\marco\\anaconda3\\envs\\venv\\lib\\site-packages\\IPython\\core\\ultratb.py\", line 818, in format_exception_as_a_whole\n",
      "    frames.append(self.format_record(r))\n",
      "  File \"c:\\Users\\marco\\anaconda3\\envs\\venv\\lib\\site-packages\\IPython\\core\\ultratb.py\", line 736, in format_record\n",
      "    result += ''.join(_format_traceback_lines(frame_info.lines, Colors, self.has_colors, lvals))\n",
      "  File \"c:\\Users\\marco\\anaconda3\\envs\\venv\\lib\\site-packages\\stack_data\\utils.py\", line 145, in cached_property_wrapper\n",
      "    value = obj.__dict__[self.func.__name__] = self.func(obj)\n",
      "  File \"c:\\Users\\marco\\anaconda3\\envs\\venv\\lib\\site-packages\\stack_data\\core.py\", line 698, in lines\n",
      "    pieces = self.included_pieces\n",
      "  File \"c:\\Users\\marco\\anaconda3\\envs\\venv\\lib\\site-packages\\stack_data\\utils.py\", line 145, in cached_property_wrapper\n",
      "    value = obj.__dict__[self.func.__name__] = self.func(obj)\n",
      "  File \"c:\\Users\\marco\\anaconda3\\envs\\venv\\lib\\site-packages\\stack_data\\core.py\", line 649, in included_pieces\n",
      "    pos = scope_pieces.index(self.executing_piece)\n",
      "  File \"c:\\Users\\marco\\anaconda3\\envs\\venv\\lib\\site-packages\\stack_data\\utils.py\", line 145, in cached_property_wrapper\n",
      "    value = obj.__dict__[self.func.__name__] = self.func(obj)\n",
      "  File \"c:\\Users\\marco\\anaconda3\\envs\\venv\\lib\\site-packages\\stack_data\\core.py\", line 628, in executing_piece\n",
      "    return only(\n",
      "  File \"c:\\Users\\marco\\anaconda3\\envs\\venv\\lib\\site-packages\\executing\\executing.py\", line 164, in only\n",
      "    raise NotOneValueFound('Expected one value, found 0')\n",
      "executing.executing.NotOneValueFound: Expected one value, found 0\n"
     ]
    }
   ],
   "source": [
    "for n in N_total:\n",
    "    st = time()\n",
    "    a_star(n)\n",
    "    et = time()\n",
    "    print(f\"Elapsed Time = {et-st}seconds\")"
   ]
  }
 ],
 "metadata": {
  "kernelspec": {
   "display_name": "Python 3.10.6 ('venv')",
   "language": "python",
   "name": "python3"
  },
  "language_info": {
   "codemirror_mode": {
    "name": "ipython",
    "version": 3
   },
   "file_extension": ".py",
   "mimetype": "text/x-python",
   "name": "python",
   "nbconvert_exporter": "python",
   "pygments_lexer": "ipython3",
   "version": "3.10.6"
  },
  "vscode": {
   "interpreter": {
    "hash": "f7f6130942023c4e497e869b68f37e712da14dab2336769063882d8b350699c3"
   }
  }
 },
 "nbformat": 4,
 "nbformat_minor": 2
}
