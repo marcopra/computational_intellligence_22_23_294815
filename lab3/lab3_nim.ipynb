{
 "cells": [
  {
   "cell_type": "markdown",
   "metadata": {
    "pycharm": {
     "name": "#%% md\n"
    }
   },
   "source": [
    "Copyright **`(c)`** 2022 Giovanni Squillero `<squillero@polito.it>`  \n",
    "[`https://github.com/squillero/computational-intelligence`](https://github.com/squillero/computational-intelligence)  \n",
    "Free for personal or classroom use; see [`LICENSE.md`](https://github.com/squillero/computational-intelligence/blob/master/LICENSE.md) for details.  \n"
   ]
  },
  {
   "cell_type": "markdown",
   "metadata": {
    "pycharm": {
     "name": "#%%\n"
    }
   },
   "source": [
    "# Lab 3: Policy Search\n",
    "\n",
    "## Task\n",
    "\n",
    "Write agents able to play [*Nim*](https://en.wikipedia.org/wiki/Nim), with an arbitrary number of rows and an upper bound $k$ on the number of objects that can be removed in a turn (a.k.a., *subtraction game*).\n",
    "\n",
    "The player **taking the last object wins**.\n",
    "\n",
    "* Task3.1: An agent using fixed rules based on *nim-sum* (i.e., an *expert system*)\n",
    "* Task3.2: An agent using evolved rules\n",
    "* Task3.3: An agent using minmax\n",
    "* Task3.4: An agent using reinforcement learning\n",
    "\n",
    "## Instructions\n",
    "\n",
    "* Create the directory `lab3` inside the course repo \n",
    "* Put a `README.md` and your solution (all the files, code and auxiliary data if needed)\n",
    "\n",
    "## Notes\n",
    "\n",
    "* Working in group is not only allowed, but recommended (see: [Ubuntu](https://en.wikipedia.org/wiki/Ubuntu_philosophy) and [Cooperative Learning](https://files.eric.ed.gov/fulltext/EJ1096789.pdf)). Collaborations must be explicitly declared in the `README.md`.\n",
    "* [Yanking](https://www.emacswiki.org/emacs/KillingAndYanking) from the internet is allowed, but sources must be explicitly declared in the `README.md`.\n",
    "\n",
    "**Deadline**\n",
    "\n",
    "T.b.d.\n"
   ]
  },
  {
   "cell_type": "code",
   "execution_count": 863,
   "metadata": {},
   "outputs": [],
   "source": [
    "import logging\n",
    "import random\n",
    "import numpy as np\n",
    "import functools\n",
    "from typing import Callable\n",
    "from itertools import accumulate\n",
    "from operator import xor"
   ]
  },
  {
   "cell_type": "markdown",
   "metadata": {},
   "source": [
    "## NIM Game "
   ]
  },
  {
   "cell_type": "code",
   "execution_count": 864,
   "metadata": {},
   "outputs": [],
   "source": [
    "class Nim:\n",
    "    def __init__(self, num_rows: int, k: int = None) -> None:\n",
    "        self._rows = [i*2 + 1 for i in range(num_rows)]\n",
    "        self._k = k\n",
    "    \n",
    "    def __str__(self):\n",
    "        return f\"{self._rows}\"\n",
    "\n",
    "    def nimming(self, row: int, num_objects: int) -> None:\n",
    "        assert self._rows[row] >= num_objects\n",
    "        assert self._k is None or num_objects <= self._k\n",
    "        assert num_objects > 0, f\"You have to pick at least one\"\n",
    "        self._rows[row] -= num_objects\n",
    "        if sum(self._rows) == 0:\n",
    "            logging.debug(\"Yeuch\")"
   ]
  },
  {
   "cell_type": "code",
   "execution_count": 865,
   "metadata": {},
   "outputs": [],
   "source": [
    "def nim_sum(rows: list) -> int:\n",
    "    # List XOR\n",
    "    # Using reduce() + lambda + \"^\" operator\n",
    "    res = functools.reduce(lambda x, y: x ^ y, rows)\n",
    "    return res"
   ]
  },
  {
   "cell_type": "markdown",
   "metadata": {},
   "source": [
    "## Task3.1: An agent using fixed rules based on *nim-sum* (i.e., an *expert system*)"
   ]
  },
  {
   "cell_type": "markdown",
   "metadata": {},
   "source": [
    "### Creating the NIM Table "
   ]
  },
  {
   "cell_type": "code",
   "execution_count": 866,
   "metadata": {},
   "outputs": [],
   "source": [
    "N_ROWS = 5\n",
    "GAMEOVER = [0 for _ in range(N_ROWS)]\n",
    "K = None\n",
    "\n",
    "Table = Nim(N_ROWS, K)\n"
   ]
  },
  {
   "cell_type": "markdown",
   "metadata": {},
   "source": [
    "### Hardcoded Opponent:"
   ]
  },
  {
   "cell_type": "code",
   "execution_count": 867,
   "metadata": {},
   "outputs": [],
   "source": [
    "class Opponent:\n",
    "    def __init__(self, strategy = 'best') -> None:\n",
    "        \n",
    "        assert strategy in ['best', 'pure_random'], f\"Strategy non-available\"\n",
    "        self._strategy = strategy\n",
    "\n",
    "    def moves(self, Nim):\n",
    "        # The opponent choose randomly a non-empty row \n",
    "        nonzeroind = np.nonzero(Nim._rows)[0]\n",
    "        random_row = random.choice(nonzeroind)\n",
    "\n",
    "        # The opponen choose to remove a random number of elements\n",
    "        if Nim._k == None:\n",
    "            random_elements = random.randint(1,Nim._rows[random_row])\n",
    "        else:\n",
    "            random_elements = random.randint(1,min(Nim._k,Nim._rows[random_row]))\n",
    "\n",
    "        logging.debug(f\"Opponent:   <Row: {random_row}- Elements: {random_elements}>\")\n",
    "        # Update table\n",
    "        Nim.nimming(random_row, random_elements)\n",
    "\n",
    "        return\n"
   ]
  },
  {
   "cell_type": "markdown",
   "metadata": {},
   "source": [
    "### Agent:"
   ]
  },
  {
   "cell_type": "markdown",
   "metadata": {},
   "source": [
    "#### Winning strategy (Expert Agent)\n",
    "\n",
    "To understand the algorithm of the winning strategy, look at [*Nim*](https://en.wikipedia.org/wiki/Nim)!"
   ]
  },
  {
   "cell_type": "code",
   "execution_count": 868,
   "metadata": {},
   "outputs": [],
   "source": [
    "class Agent:\n",
    "    def __init__(self, strategy = 'best') -> None:\n",
    "        # Two parts for the best strategy:\n",
    "        # 0 -> before all rows have one element\n",
    "        # 1 -> after all rows have one element\n",
    "        self._best_strategy = 0\n",
    "\n",
    "        assert strategy in ['best', 'pure_random'], f\"Strategy non-available\"\n",
    "        self._strategy = strategy\n",
    "\n",
    "    def moves(self, Nim):\n",
    "        if self._strategy == 'best':\n",
    "            return self.best_strategy(Nim)\n",
    "        return\n",
    "\n",
    "    def best_strategy(self, Nim):\n",
    "\n",
    "        # If all the elements are equal or less then k, we can play the 'normal' nim game\n",
    "        if Nim._k != None and all(v <= Nim._k for v in Nim._rows):\n",
    "            Nim._k = None\n",
    "\n",
    "\n",
    "        if Nim._k != None:\n",
    "            if all(v != 1 and v%(Nim._k+1) == 1 for v in Nim._rows):\n",
    "                Nim.nimming(random.randrange(0, len(Nim._rows)), self._k)\n",
    "                return\n",
    "            \n",
    "            equal_grater_than_k_ind = [i for i,v in enumerate(Nim._rows) if v >= Nim._k + 1]\n",
    "        \n",
    "            random_row = random.choice(equal_grater_than_k_ind)\n",
    "            elements = Nim._rows[random_row]%(Nim._k+1) \n",
    "            if elements == 0:\n",
    "                elements = 1\n",
    "            # Update table\n",
    "            Nim.nimming(random_row, elements)\n",
    "            return\n",
    "\n",
    "\n",
    "\n",
    "        # If there is only one element greater to one, the agent picks a number of object to make\n",
    "        # all the rows of the table equal to 1.\n",
    "        # He can choose to remove all the objects or all the objects but one from the rows with n>1\n",
    "        if sum(x >= 2 for x in Nim._rows) == 1:\n",
    "            # Row with more than one element\n",
    "            equal_grater_than_two_ind = [i for i,v in enumerate(Nim._rows) if v >= 2][0]\n",
    "\n",
    "            # Change of strategy\n",
    "            self._best_strategy = 1\n",
    "\n",
    "            \n",
    "            # To win, the remaing number of objects has to be even \n",
    "            if (sum(x for x in Nim._rows) - Nim._rows[equal_grater_than_two_ind]) % 2 == 0 :\n",
    "                logging.debug(f\"Agent:   <Row: {equal_grater_than_two_ind}- Elements: {Nim._rows[equal_grater_than_two_ind]}>\")\n",
    "                # Update table\n",
    "                Nim.nimming(equal_grater_than_two_ind, Nim._rows[equal_grater_than_two_ind])\n",
    "                \n",
    "            else:\n",
    "\n",
    "                logging.debug(f\"Agent:   <Row: {equal_grater_than_two_ind}- Elements: {Nim._rows[equal_grater_than_two_ind] - 1}>\")\n",
    "                # Update table\n",
    "                Nim.nimming(equal_grater_than_two_ind, Nim._rows[equal_grater_than_two_ind]-1)\n",
    "            \n",
    "            return\n",
    "        \n",
    "        # Strategy before all rows have one element\n",
    "        if self._best_strategy == 0:    \n",
    "        \n",
    "            res = nim_sum(Nim._rows)\n",
    "\n",
    "            for ind, row in enumerate(Nim._rows):\n",
    "\n",
    "                if row == 0:\n",
    "                    continue\n",
    "\n",
    "                if row ^ res < row:\n",
    "                    logging.debug(f\"Agent:  rows = {Nim._rows}\")\n",
    "                    elements = row - (row ^ res)\n",
    "                    logging.debug(f\"Agent:   xor = {row ^ res}\")\n",
    "                    logging.debug(f\"Agent:   <Row: {ind}- Elements: {elements}>\")\n",
    "                    # Update table\n",
    "                    Nim.nimming(ind, elements)\n",
    "\n",
    "                    return\n",
    "        \n",
    "        # Strategy after all rows have one element\n",
    "        else:\n",
    "\n",
    "            nonzeroind = np.nonzero(Nim._rows)[0]\n",
    "            random_row = random.choice(nonzeroind)\n",
    "\n",
    "\n",
    "            logging.debug(f\"Agent:   <Row:{random_row}- Elements: {1}>\")\n",
    "            # Update table\n",
    "            Nim.nimming(random_row, 1)       \n",
    "\n",
    "        return\n"
   ]
  },
  {
   "cell_type": "markdown",
   "metadata": {},
   "source": [
    "### Single Match"
   ]
  },
  {
   "cell_type": "code",
   "execution_count": 869,
   "metadata": {},
   "outputs": [],
   "source": [
    "def single_match(agent_strategy = 'best'):\n",
    "    \n",
    "    agent = Agent(agent_strategy)\n",
    "    opponent = Opponent()\n",
    "\n",
    "    # 0 -> Agent's turn\n",
    "    # 1 -> Opponent's turn\n",
    "    turn = 1\n",
    "\n",
    "    # Game\n",
    "    while Table._rows != GAMEOVER:\n",
    "        \n",
    "        if turn == 0:\n",
    "            agent.moves(Table)\n",
    "        else:\n",
    "            opponent.moves(Table)\n",
    "        \n",
    "        turn = 1 - turn\n",
    "        \n",
    "\n",
    "    # Game Over\n",
    "\n",
    "    if turn == 1:\n",
    "        print(f\"Agent WON the match\")\n",
    "    else:\n",
    "        print(f\"Opponent WON the match\")\n",
    "    \n",
    "    return\n",
    "\n"
   ]
  },
  {
   "cell_type": "markdown",
   "metadata": {},
   "source": [
    "### Multiple Games"
   ]
  },
  {
   "cell_type": "code",
   "execution_count": 870,
   "metadata": {},
   "outputs": [],
   "source": [
    "NUM_MATCHES = 10\n",
    "\n",
    "def evaluate(agent_strategy = 'best') -> float:\n",
    "    \n",
    "\n",
    "    won = 0\n",
    "\n",
    "    for m in range(NUM_MATCHES):\n",
    "        agent = Agent(agent_strategy)\n",
    "        opponent = Opponent()\n",
    "        \n",
    "        nim = Nim(N_ROWS, 5)\n",
    "        \n",
    "        # 0 -> Agent's turn\n",
    "        # 1 -> Opponent's turn\n",
    "        turn = random.randint(0,1)\n",
    "\n",
    "        # Game\n",
    "        while nim._rows != GAMEOVER:\n",
    "            logging.debug(f\"Actual turn: {turn}\")\n",
    "\n",
    "            logging.debug(f\"Table: {nim} and Nim_sum: {nim_sum(nim._rows)}\")\n",
    "            if turn == 0:\n",
    "                agent.moves(nim)\n",
    "                \n",
    "            else:\n",
    "                opponent.moves(nim)\n",
    "\n",
    "            logging.debug(f\"Table: {nim} and Nim_sum: {nim_sum(nim._rows)}\\n\")\n",
    "\n",
    "            \n",
    "            turn = 1 - turn\n",
    "        \n",
    "        # Game Over\n",
    "\n",
    "        if turn == 1:\n",
    "            won +=1\n",
    "        else:\n",
    "            return\n",
    "            \n",
    "        \n",
    "    return won / NUM_MATCHES\n"
   ]
  },
  {
   "cell_type": "code",
   "execution_count": 895,
   "metadata": {},
   "outputs": [
    {
     "name": "stdout",
     "output_type": "stream",
     "text": [
      "Agent Won: 100.0% of the games\n"
     ]
    }
   ],
   "source": [
    "logging.getLogger().setLevel(logging.INFO)\n",
    "\n",
    "print(f\"Agent Won: {evaluate()*100}% of the games\")"
   ]
  }
 ],
 "metadata": {
  "kernelspec": {
   "display_name": "Python 3.8.2 64-bit",
   "language": "python",
   "name": "python3"
  },
  "language_info": {
   "codemirror_mode": {
    "name": "ipython",
    "version": 3
   },
   "file_extension": ".py",
   "mimetype": "text/x-python",
   "name": "python",
   "nbconvert_exporter": "python",
   "pygments_lexer": "ipython3",
   "version": "3.8.2"
  },
  "vscode": {
   "interpreter": {
    "hash": "31f2aee4e71d21fbe5cf8b01ff0e069b9275f58929596ceb00d14d90e3e16cd6"
   }
  }
 },
 "nbformat": 4,
 "nbformat_minor": 2
}
