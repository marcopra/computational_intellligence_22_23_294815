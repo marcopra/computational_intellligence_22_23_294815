{
 "cells": [
  {
   "cell_type": "markdown",
   "metadata": {},
   "source": [
    "# Lab 2: Set-Covering Problem using Genetic Algorithms"
   ]
  },
  {
   "cell_type": "code",
   "execution_count": 15,
   "metadata": {},
   "outputs": [],
   "source": [
    "from operator import index\n",
    "import random\n",
    "import sys\n",
    "from time import time\n",
    "import numpy as np\n",
    "from collections import namedtuple\n",
    "import logging\n",
    "from collections import Counter\n"
   ]
  },
  {
   "cell_type": "code",
   "execution_count": 16,
   "metadata": {},
   "outputs": [],
   "source": [
    "POPULATION_SIZE = 100000 \n",
    "OFFSPRING_SIZE = 1000\n",
    "\n",
    "NUM_GENERATIONS = 10\n",
    "\n",
    "N = 50\n",
    "\n",
    "random.seed(42)\n",
    "\n",
    "GOAL = set(range(N))"
   ]
  },
  {
   "cell_type": "code",
   "execution_count": 17,
   "metadata": {},
   "outputs": [],
   "source": [
    "import itertools\n",
    "from typing import Callable\n",
    "\n",
    "def remove_duplicates(list_):\n",
    "  list_ = list(k for k,_ in itertools.groupby(list_))\n",
    "\n",
    "  return list_\n",
    "\n",
    "def sort_by(list_: list, key: Callable = None):\n",
    "  list_.sort(key=key)\n",
    "  return list_\n",
    "  \n",
    "def preproc(problem, rem_dup=False, sort=False, f:Callable = None):\n",
    "  problem= sort_by(problem, key=f)\n",
    "  problem= remove_duplicates(problem)\n",
    "  return problem"
   ]
  },
  {
   "cell_type": "code",
   "execution_count": 18,
   "metadata": {},
   "outputs": [],
   "source": [
    "Individual = namedtuple(\"Individual\", [\"genome\", \"fitness\"])\n",
    "\n",
    "def create_genome(problem):\n",
    "    genome = []\n",
    "    numbers_found = set()\n",
    "\n",
    "    while numbers_found != GOAL:\n",
    "\n",
    "        n_random = random.choice(range(0, len(problem)))\n",
    "        genome.append(tuple(problem[n_random]))\n",
    "        numbers_found |= set(problem[n_random])\n",
    "\n",
    "        problem.pop(n_random)\n",
    "        \n",
    "    return genome\n",
    "    \n",
    "def fitness(genome):\n",
    "    \n",
    "    cnt = Counter()\n",
    "    cnt.update(sum((e for e in genome), start=()))\n",
    "\n",
    "    # Counting (Number of useful elements, Numbers of redundant elements)\n",
    "    return tuple([sum(cnt[c] - 1 for c in cnt if cnt[c] > 1), -sum(cnt[c] == 1 for c in cnt)])\n",
    "\n",
    "def tournament(population, tournament_size=2):\n",
    "    return min(random.choices(population, k=tournament_size), key=lambda i: i.fitness)\n",
    "\n",
    "\n",
    "def mutation(g, problem):\n",
    "\n",
    "    # Deleting a random Gene (= List)\n",
    "    point = random.randint(0, len(g) - 1)\n",
    "    g.pop(point)\n",
    "\n",
    "    # Numbers covered without the Gene chosen previously\n",
    "    numbers_found = set()\n",
    "    for element in g:\n",
    "        numbers_found != set(element)\n",
    "\n",
    "    # Counter to avoid infinit loops\n",
    "    steps = 0\n",
    "\n",
    "    while numbers_found != GOAL:\n",
    "        steps += 1\n",
    "\n",
    "        if steps == 10000:\n",
    "            # No Solution found in a reasonable number of step\n",
    "            return None\n",
    "        \n",
    "        # Choosing a list from the problem randomly and\n",
    "        # Adding it to the candidate solution (Genome)\n",
    "        n_random = random.choice(range(0, len(problem)))\n",
    "\n",
    "        # Avoiding to have equal lists inside the Genome\n",
    "        if not any(list == tuple(problem[n_random]) for list in g):\n",
    "            g.append(tuple(problem[n_random]))\n",
    "            numbers_found |= set(problem[n_random])\n",
    "\n",
    "            problem.pop(n_random)\n",
    "\n",
    "    return g"
   ]
  },
  {
   "cell_type": "markdown",
   "metadata": {},
   "source": [
    "**Problem Definition**"
   ]
  },
  {
   "cell_type": "code",
   "execution_count": 19,
   "metadata": {},
   "outputs": [],
   "source": [
    "def problem(N, seed=42):\n",
    "    random.seed(seed)\n",
    "    return [\n",
    "        list(set(random.randint(0, N - 1) for n in range(random.randint(N // 5, N // 2))))\n",
    "        for n in range(random.randint(N, N * 5))\n",
    "    ]"
   ]
  },
  {
   "cell_type": "markdown",
   "metadata": {},
   "source": [
    "## Genetic Algorithm"
   ]
  },
  {
   "cell_type": "markdown",
   "metadata": {},
   "source": [
    "### Initial Population"
   ]
  },
  {
   "cell_type": "code",
   "execution_count": 20,
   "metadata": {},
   "outputs": [],
   "source": [
    "population = list()\n",
    "\n",
    "all_list = preproc(problem(N))\n",
    "\n",
    "for _ in range(POPULATION_SIZE):\n",
    "    \n",
    "    genome = create_genome(all_list.copy())\n",
    "    population.append(Individual(genome, fitness(genome)))\n",
    "\n",
    "logging.info(f\"init: pop_size={len(population)}; min={min(population, key=lambda i: i.fitness)[1]}\")"
   ]
  },
  {
   "cell_type": "markdown",
   "metadata": {},
   "source": [
    "### Evolution"
   ]
  },
  {
   "cell_type": "code",
   "execution_count": 21,
   "metadata": {},
   "outputs": [
    {
     "name": "stdout",
     "output_type": "stream",
     "text": [
      "Winner:  Individual(genome=[(0, 1, 3, 4, 8, 9, 13, 14, 23, 29, 30, 31, 32, 34, 35, 39, 40, 42, 45), (0, 1, 33, 35, 36, 5, 6, 38, 10, 43, 46, 15, 49, 18, 20, 22, 24, 26), (2, 3, 7, 11, 12, 16, 17, 18, 21, 22, 23, 24, 25, 27, 28, 31, 41, 44, 47, 48, 49), (3, 36, 37, 4, 39, 40, 41, 9, 43, 48, 17, 19, 20, 22, 28, 29, 30)], fitness=(25, -27))\n",
      "Cost:  75\n",
      "Bloat=  150 %\n",
      "Elapsed time: 18.309167623519897s\n"
     ]
    }
   ],
   "source": [
    "st = time()\n",
    "\n",
    "for g in range(NUM_GENERATIONS):\n",
    "    offspring = list()\n",
    "    for i in range(OFFSPRING_SIZE):\n",
    "\n",
    "        # Selection of parents\n",
    "        p = tournament(population.copy())\n",
    "\n",
    "        # Offspring generation\n",
    "        o = mutation(p.genome.copy(), all_list.copy())\n",
    "\n",
    "        # Check if the mutation returned a valid solution.\n",
    "        # In this code, only valid solutions has been considered.\n",
    "        # Possible Improvement: Acceptance with penalties of non-valid solutions\n",
    "        if o == None:\n",
    "            continue\n",
    "    \n",
    "        # Fitness of Offspring\n",
    "        f = fitness(o)\n",
    "        \n",
    "        offspring.append(Individual(o, fitness(o)))\n",
    "    \n",
    "    # Adding new Offspings generated to Population list\n",
    "    population+=offspring\n",
    "\n",
    "    # Sorting the Population, according to their fitness and selecting the firsts n_elements = POPULATION_SIZE\n",
    "    population = sorted(population, key=lambda i: i.fitness)[:POPULATION_SIZE]\n",
    "    \n",
    "et  = time()\n",
    "print(\"Winner: \", population[0])\n",
    "print(\"Cost: \", sum(len(element) for element in population[0].genome))\n",
    "print(\"Bloat= \", int(sum(len(element) for element in population[0].genome)/N * 100), \"%\")\n",
    "print(f\"Elapsed time: {et - st}s\")\n"
   ]
  }
 ],
 "metadata": {
  "kernelspec": {
   "display_name": "Python 3.10.6 ('venv')",
   "language": "python",
   "name": "python3"
  },
  "language_info": {
   "codemirror_mode": {
    "name": "ipython",
    "version": 3
   },
   "file_extension": ".py",
   "mimetype": "text/x-python",
   "name": "python",
   "nbconvert_exporter": "python",
   "pygments_lexer": "ipython3",
   "version": "3.10.6"
  },
  "orig_nbformat": 4,
  "vscode": {
   "interpreter": {
    "hash": "f7f6130942023c4e497e869b68f37e712da14dab2336769063882d8b350699c3"
   }
  }
 },
 "nbformat": 4,
 "nbformat_minor": 2
}
