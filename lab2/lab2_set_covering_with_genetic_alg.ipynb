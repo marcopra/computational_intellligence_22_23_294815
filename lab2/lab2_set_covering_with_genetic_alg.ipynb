{
 "cells": [
  {
   "cell_type": "markdown",
   "metadata": {},
   "source": [
    "# Lab 2: Set-Covering Problem using Genetic Algorithms"
   ]
  },
  {
   "cell_type": "code",
   "execution_count": 81,
   "metadata": {},
   "outputs": [],
   "source": [
    "from operator import index\n",
    "import random\n",
    "import sys\n",
    "from time import time\n",
    "import numpy as np\n",
    "from collections import namedtuple\n",
    "import logging\n",
    "from collections import Counter\n"
   ]
  },
  {
   "cell_type": "code",
   "execution_count": 82,
   "metadata": {},
   "outputs": [],
   "source": [
    "# PROBLEM_SIZE = 500\n",
    "POPULATION_SIZE = 5\n",
    "OFFSPRING_SIZE = 3\n",
    "\n",
    "NUM_GENERATIONS = 10\n",
    "\n",
    "N = 5\n",
    "\n",
    "random.seed(42)\n",
    "\n",
    "GOAL = set(range(N))"
   ]
  },
  {
   "cell_type": "code",
   "execution_count": 83,
   "metadata": {},
   "outputs": [],
   "source": [
    "from traitlets.traitlets import Callable\n",
    "import itertools\n",
    "\n",
    "def remove_duplicates(list_):\n",
    "  list_ = list(k for k,_ in itertools.groupby(list_))\n",
    "\n",
    "  return list_\n",
    "\n",
    "def sort_by(list_: list, key: Callable = None):\n",
    "  list_.sort(key=key)\n",
    "  return list_\n",
    "  \n",
    "def preproc(problem, rem_dup=False, sort=False, f:Callable = None):\n",
    "  problem= sort_by(problem, key=f)\n",
    "  problem= remove_duplicates(problem)\n",
    "  return problem"
   ]
  },
  {
   "cell_type": "code",
   "execution_count": 84,
   "metadata": {},
   "outputs": [],
   "source": [
    "Individual = namedtuple(\"Individual\", [\"genome\", \"fitness\"])\n",
    "\n",
    "def create_genome(problem):\n",
    "    genome = []\n",
    "    numbers_found = set()\n",
    "\n",
    "    while numbers_found != GOAL:\n",
    "\n",
    "        n_random = random.choice(range(0, len(problem)))\n",
    "        genome.append(tuple(problem[n_random]))\n",
    "        numbers_found |= set(problem[n_random])\n",
    "\n",
    "        problem.pop(n_random)\n",
    "        \n",
    "    return genome\n",
    "    \n",
    "def onemax(genome):\n",
    "    return sum(genome)\n",
    "\n",
    "def fitness(genome):\n",
    "    return sum(len(element) for element in genome)\n",
    "\n",
    "\n",
    "def tournament(population, tournament_size=2):\n",
    "    return min(random.choices(population, k=tournament_size), key=lambda i: i.fitness)\n",
    "\n",
    "\n",
    "def cross_over(g1, g2):\n",
    "\n",
    "    \n",
    "    cut = random.randint(0, len(g1))\n",
    "    return g1[:cut] + g2[cut:]\n",
    "\n",
    "\n",
    "def mutation(g, problem):\n",
    "\n",
    "    point = random.randint(0, len(g) - 1)\n",
    "    g.pop(point)\n",
    "\n",
    "    numbers_found = set()\n",
    "    for element in g:\n",
    "        numbers_found != set(element)\n",
    "\n",
    "    steps = 0\n",
    "\n",
    "    while numbers_found != GOAL:\n",
    "        steps += 1\n",
    "\n",
    "        if steps == 10000:\n",
    "            return None\n",
    "        n_random = random.choice(range(0, len(problem)))\n",
    "\n",
    "        if not any(list == tuple(problem[n_random]) for list in g):\n",
    "            g.append(tuple(problem[n_random]))\n",
    "            numbers_found |= set(problem[n_random])\n",
    "\n",
    "            problem.pop(n_random)\n",
    "\n",
    "    return g"
   ]
  },
  {
   "cell_type": "markdown",
   "metadata": {},
   "source": [
    "**Problem Definition**"
   ]
  },
  {
   "cell_type": "code",
   "execution_count": 85,
   "metadata": {},
   "outputs": [],
   "source": [
    "def problem(N, seed=42):\n",
    "    random.seed(seed)\n",
    "    return [\n",
    "        list(set(random.randint(0, N - 1) for n in range(random.randint(N // 5, N // 2))))\n",
    "        for n in range(random.randint(N, N * 5))\n",
    "    ]"
   ]
  },
  {
   "cell_type": "markdown",
   "metadata": {},
   "source": [
    "## Genetic Algorithm"
   ]
  },
  {
   "cell_type": "markdown",
   "metadata": {},
   "source": [
    "### Initial Population"
   ]
  },
  {
   "cell_type": "code",
   "execution_count": 86,
   "metadata": {},
   "outputs": [],
   "source": [
    "# population = list()\n",
    "\n",
    "# all_list = preproc(problem(N))\n",
    "\n",
    "# for _ in range(POPULATION_SIZE):\n",
    "    \n",
    "#     genome = create_genome(all_list.copy())\n",
    "#     population.append(Individual(genome, fitness(genome)))\n",
    "\n",
    "# logging.info(f\"init: pop_size={len(population)}; min={min(population, key=lambda i: i.fitness)[1]}\")"
   ]
  },
  {
   "cell_type": "code",
   "execution_count": 87,
   "metadata": {},
   "outputs": [
    {
     "name": "stdout",
     "output_type": "stream",
     "text": [
      "[Individual(genome=[(0, 2), (2, 3), (2, 4), (0, 1)], fitness=8), Individual(genome=[(1, 3), (0, 1), (1,), (2, 4)], fitness=7), Individual(genome=[(1,), (0, 2), (4,), (2,), (2, 3), (2, 4), (0, 1)], fitness=7), Individual(genome=[(3,), (2, 3), (4,), (0,), (0, 2), (2, 4), (0, 1), (2,), (1, 3)], fitness=6), Individual(genome=[(1,), (0,), (2, 4), (2,), (2, 3), (3,), (0, 2), (0, 1), (4,)], fitness=7), [Individual(genome=[(1,), (0,), (2, 4), (2,), (2, 3), (3,), (0, 2), (0, 1), (4,)], fitness=13), Individual(genome=[(1,), (0, 2), (4,), (2,), (2, 3), (2, 4), (0, 1)], fitness=11), Individual(genome=[(3,), (2, 3), (4,), (0,), (0, 2), (2, 4), (0, 1), (2,), (1, 3)], fitness=14)]]\n"
     ]
    }
   ],
   "source": [
    "print(population)"
   ]
  },
  {
   "cell_type": "markdown",
   "metadata": {},
   "source": [
    "### Evolution"
   ]
  },
  {
   "cell_type": "code",
   "execution_count": 88,
   "metadata": {},
   "outputs": [
    {
     "name": "stdout",
     "output_type": "stream",
     "text": [
      "aKSKAs  [Individual(genome=[(0, 2), (2, 3), (2, 4), (0, 1)], fitness=8), Individual(genome=[(1, 3), (0, 1), (1,), (2, 4)], fitness=7), Individual(genome=[(1,), (0, 2), (4,), (2,), (1, 3)], fitness=7), Individual(genome=[(3,), (1,), (2, 3), (4,), (0,)], fitness=6), Individual(genome=[(1,), (0,), (2, 4), (2,), (1, 3)], fitness=7)] \n",
      "\n",
      "\n",
      "population Before OFFSPRING: [Individual(genome=[(0, 2), (2, 3), (2, 4), (0, 1)], fitness=8), Individual(genome=[(1, 3), (0, 1), (1,), (2, 4)], fitness=7), Individual(genome=[(1,), (0, 2), (4,), (2,), (1, 3)], fitness=7), Individual(genome=[(3,), (1,), (2, 3), (4,), (0,)], fitness=6), Individual(genome=[(1,), (0,), (2, 4), (2,), (1, 3)], fitness=7)]\n",
      "\n",
      "\n",
      "\n",
      "0: [(1,), (0,), (2, 4), (2,), (2, 3), (3,), (0, 2), (0, 1), (4,)], fitness: 13\n",
      "Offspingsss 0: [(1,), (0,), (2, 4), (2,), (2, 3), (3,), (0, 2), (0, 1), (4,)], fitness: 13\n",
      "\n",
      "\n",
      "0: [(1,), (0, 2), (4,), (2,), (2, 3), (2, 4), (0, 1)], fitness: 11\n",
      "Offspingsss 0: [(1,), (0, 2), (4,), (2,), (2, 3), (2, 4), (0, 1)], fitness: 11\n",
      "\n",
      "\n",
      "0: [(3,), (2, 3), (4,), (0,), (0, 2), (2, 4), (0, 1), (2,), (1, 3)], fitness: 14\n",
      "Offspingsss 0: [(3,), (2, 3), (4,), (0,), (0, 2), (2, 4), (0, 1), (2,), (1, 3)], fitness: 14\n",
      "\n",
      "\n",
      "second ppulation: [Individual(genome=[(0, 2), (2, 3), (2, 4), (0, 1)], fitness=8), Individual(genome=[(1, 3), (0, 1), (1,), (2, 4)], fitness=7), Individual(genome=[(1,), (0, 2), (4,), (2,), (1, 3)], fitness=7), Individual(genome=[(3,), (1,), (2, 3), (4,), (0,)], fitness=6), Individual(genome=[(1,), (0,), (2, 4), (2,), (1, 3)], fitness=7)]\n",
      "\n",
      "\n",
      "ppulation: [Individual(genome=[(0, 2), (2, 3), (2, 4), (0, 1)], fitness=8), Individual(genome=[(1, 3), (0, 1), (1,), (2, 4)], fitness=7), Individual(genome=[(1,), (0, 2), (4,), (2,), (1, 3)], fitness=7), Individual(genome=[(3,), (1,), (2, 3), (4,), (0,)], fitness=6), Individual(genome=[(1,), (0,), (2, 4), (2,), (1, 3)], fitness=7), [Individual(genome=[(1,), (0,), (2, 4), (2,), (2, 3), (3,), (0, 2), (0, 1), (4,)], fitness=13), Individual(genome=[(1,), (0, 2), (4,), (2,), (2, 3), (2, 4), (0, 1)], fitness=11), Individual(genome=[(3,), (2, 3), (4,), (0,), (0, 2), (2, 4), (0, 1), (2,), (1, 3)], fitness=14)]]\n",
      "\n",
      "\n",
      "\n"
     ]
    },
    {
     "ename": "AttributeError",
     "evalue": "'list' object has no attribute 'fitness'",
     "output_type": "error",
     "traceback": [
      "\u001b[1;31m---------------------------------------------------------------------------\u001b[0m",
      "\u001b[1;31mAttributeError\u001b[0m                            Traceback (most recent call last)",
      "\u001b[1;32mc:\\Users\\marco\\Dropbox (Politecnico Di Torino Studenti)\\PoliTo Magistrale\\II Anno 2022-23\\Computational Intelligence\\computational_intellligence_22_23_294815\\lab2\\lab2_set_covering_with_genetic_alg.ipynb Cella 13\u001b[0m in \u001b[0;36m<cell line: 14>\u001b[1;34m()\u001b[0m\n\u001b[0;32m     <a href='vscode-notebook-cell:/c%3A/Users/marco/Dropbox%20%28Politecnico%20Di%20Torino%20Studenti%29/PoliTo%20Magistrale/II%20Anno%202022-23/Computational%20Intelligence/computational_intellligence_22_23_294815/lab2/lab2_set_covering_with_genetic_alg.ipynb#X15sZmlsZQ%3D%3D?line=36'>37</a>\u001b[0m     \u001b[39mprint\u001b[39m(\u001b[39mf\u001b[39m\u001b[39m'\u001b[39m\u001b[39mppulation: \u001b[39m\u001b[39m{\u001b[39;00mpopulation\u001b[39m}\u001b[39;00m\u001b[39m'\u001b[39m)\n\u001b[0;32m     <a href='vscode-notebook-cell:/c%3A/Users/marco/Dropbox%20%28Politecnico%20Di%20Torino%20Studenti%29/PoliTo%20Magistrale/II%20Anno%202022-23/Computational%20Intelligence/computational_intellligence_22_23_294815/lab2/lab2_set_covering_with_genetic_alg.ipynb#X15sZmlsZQ%3D%3D?line=37'>38</a>\u001b[0m     \u001b[39mprint\u001b[39m(\u001b[39m'\u001b[39m\u001b[39m\\n\u001b[39;00m\u001b[39m\\n\u001b[39;00m\u001b[39m'\u001b[39m)\n\u001b[1;32m---> <a href='vscode-notebook-cell:/c%3A/Users/marco/Dropbox%20%28Politecnico%20Di%20Torino%20Studenti%29/PoliTo%20Magistrale/II%20Anno%202022-23/Computational%20Intelligence/computational_intellligence_22_23_294815/lab2/lab2_set_covering_with_genetic_alg.ipynb#X15sZmlsZQ%3D%3D?line=38'>39</a>\u001b[0m     population \u001b[39m=\u001b[39m \u001b[39msorted\u001b[39;49m(population, key\u001b[39m=\u001b[39;49m\u001b[39mlambda\u001b[39;49;00m i: i\u001b[39m.\u001b[39;49mfitness)[:POPULATION_SIZE]\n\u001b[0;32m     <a href='vscode-notebook-cell:/c%3A/Users/marco/Dropbox%20%28Politecnico%20Di%20Torino%20Studenti%29/PoliTo%20Magistrale/II%20Anno%202022-23/Computational%20Intelligence/computational_intellligence_22_23_294815/lab2/lab2_set_covering_with_genetic_alg.ipynb#X15sZmlsZQ%3D%3D?line=41'>42</a>\u001b[0m \u001b[39mprint\u001b[39m(\u001b[39m\"\u001b[39m\u001b[39mWinner \u001b[39m\u001b[39m\"\u001b[39m,population[\u001b[39m0\u001b[39m])\n",
      "\u001b[1;32mc:\\Users\\marco\\Dropbox (Politecnico Di Torino Studenti)\\PoliTo Magistrale\\II Anno 2022-23\\Computational Intelligence\\computational_intellligence_22_23_294815\\lab2\\lab2_set_covering_with_genetic_alg.ipynb Cella 13\u001b[0m in \u001b[0;36m<lambda>\u001b[1;34m(i)\u001b[0m\n\u001b[0;32m     <a href='vscode-notebook-cell:/c%3A/Users/marco/Dropbox%20%28Politecnico%20Di%20Torino%20Studenti%29/PoliTo%20Magistrale/II%20Anno%202022-23/Computational%20Intelligence/computational_intellligence_22_23_294815/lab2/lab2_set_covering_with_genetic_alg.ipynb#X15sZmlsZQ%3D%3D?line=36'>37</a>\u001b[0m     \u001b[39mprint\u001b[39m(\u001b[39mf\u001b[39m\u001b[39m'\u001b[39m\u001b[39mppulation: \u001b[39m\u001b[39m{\u001b[39;00mpopulation\u001b[39m}\u001b[39;00m\u001b[39m'\u001b[39m)\n\u001b[0;32m     <a href='vscode-notebook-cell:/c%3A/Users/marco/Dropbox%20%28Politecnico%20Di%20Torino%20Studenti%29/PoliTo%20Magistrale/II%20Anno%202022-23/Computational%20Intelligence/computational_intellligence_22_23_294815/lab2/lab2_set_covering_with_genetic_alg.ipynb#X15sZmlsZQ%3D%3D?line=37'>38</a>\u001b[0m     \u001b[39mprint\u001b[39m(\u001b[39m'\u001b[39m\u001b[39m\\n\u001b[39;00m\u001b[39m\\n\u001b[39;00m\u001b[39m'\u001b[39m)\n\u001b[1;32m---> <a href='vscode-notebook-cell:/c%3A/Users/marco/Dropbox%20%28Politecnico%20Di%20Torino%20Studenti%29/PoliTo%20Magistrale/II%20Anno%202022-23/Computational%20Intelligence/computational_intellligence_22_23_294815/lab2/lab2_set_covering_with_genetic_alg.ipynb#X15sZmlsZQ%3D%3D?line=38'>39</a>\u001b[0m     population \u001b[39m=\u001b[39m \u001b[39msorted\u001b[39m(population, key\u001b[39m=\u001b[39m\u001b[39mlambda\u001b[39;00m i: i\u001b[39m.\u001b[39;49mfitness)[:POPULATION_SIZE]\n\u001b[0;32m     <a href='vscode-notebook-cell:/c%3A/Users/marco/Dropbox%20%28Politecnico%20Di%20Torino%20Studenti%29/PoliTo%20Magistrale/II%20Anno%202022-23/Computational%20Intelligence/computational_intellligence_22_23_294815/lab2/lab2_set_covering_with_genetic_alg.ipynb#X15sZmlsZQ%3D%3D?line=41'>42</a>\u001b[0m \u001b[39mprint\u001b[39m(\u001b[39m\"\u001b[39m\u001b[39mWinner \u001b[39m\u001b[39m\"\u001b[39m,population[\u001b[39m0\u001b[39m])\n",
      "\u001b[1;31mAttributeError\u001b[0m: 'list' object has no attribute 'fitness'"
     ]
    }
   ],
   "source": [
    "# fitness_log = [(0, i.fitness) for i in population]\n",
    "population = list()\n",
    "\n",
    "all_list = preproc(problem(N))\n",
    "\n",
    "for _ in range(POPULATION_SIZE):\n",
    "    \n",
    "    genome = create_genome(all_list.copy())\n",
    "    population.append(Individual(genome, fitness(genome)))\n",
    "\n",
    "logging.info(f\"init: pop_size={len(population)}; min={min(population, key=lambda i: i.fitness)[1]}\")\n",
    "\n",
    "print(\"aKSKAs \", population, \"\\n\\n\")\n",
    "for g in range(NUM_GENERATIONS):\n",
    "    offspring = list()\n",
    "    print(f'population Before OFFSPRING: {population}')\n",
    "    print('\\n\\n')\n",
    "    for i in range(OFFSPRING_SIZE):\n",
    "        # if random.random() < 0.3:\n",
    "        p = tournament(population.copy())\n",
    "        o = mutation(p.genome.copy(), all_list.copy())\n",
    "\n",
    "        if o == None:\n",
    "            continue\n",
    "        # else:\n",
    "        #     p1 = tournament(population)\n",
    "        #     p2 = tournament(population)\n",
    "        #     o = cross_over(p1.genome, p2.genome)\n",
    "        f = fitness(o)\n",
    "        # fitness_log.append((g + 1, f))\n",
    "        print(f'0: {o}, fitness: {f}')\n",
    "        offspring.append(Individual(o, fitness(o)))\n",
    "        print(f'Offspingsss 0: {o}, fitness: {f}\\n\\n')\n",
    "        \n",
    "    print(f'second ppulation: {population}\\n\\n')\n",
    "    population+=offspring\n",
    "    print(f'ppulation: {population}')\n",
    "    print('\\n\\n')\n",
    "    population = sorted(population, key=lambda i: i.fitness)[:POPULATION_SIZE]\n",
    "    \n",
    "\n",
    "print(\"Winner \",population[0])"
   ]
  }
 ],
 "metadata": {
  "kernelspec": {
   "display_name": "Python 3.10.6 ('venv')",
   "language": "python",
   "name": "python3"
  },
  "language_info": {
   "codemirror_mode": {
    "name": "ipython",
    "version": 3
   },
   "file_extension": ".py",
   "mimetype": "text/x-python",
   "name": "python",
   "nbconvert_exporter": "python",
   "pygments_lexer": "ipython3",
   "version": "3.10.6"
  },
  "orig_nbformat": 4,
  "vscode": {
   "interpreter": {
    "hash": "f7f6130942023c4e497e869b68f37e712da14dab2336769063882d8b350699c3"
   }
  }
 },
 "nbformat": 4,
 "nbformat_minor": 2
}
