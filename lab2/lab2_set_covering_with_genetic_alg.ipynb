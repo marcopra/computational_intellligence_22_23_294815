{
 "cells": [
  {
   "cell_type": "markdown",
   "metadata": {},
   "source": [
    "# Lab 2: Set-Covering Problem using Genetic Algorithms"
   ]
  },
  {
   "cell_type": "code",
   "execution_count": 74,
   "metadata": {},
   "outputs": [],
   "source": [
    "from operator import index\n",
    "import random\n",
    "import sys\n",
    "from time import time\n",
    "import numpy as np\n",
    "from collections import namedtuple\n",
    "import logging\n",
    "from collections import Counter\n"
   ]
  },
  {
   "cell_type": "code",
   "execution_count": 75,
   "metadata": {},
   "outputs": [],
   "source": [
    "# PROBLEM_SIZE = 500\n",
    "POPULATION_SIZE = 5000 #200\n",
    "OFFSPRING_SIZE = 100 #10\n",
    "\n",
    "NUM_GENERATIONS = 10\n",
    "\n",
    "N = 14\n",
    "\n",
    "random.seed(42)\n",
    "\n",
    "GOAL = set(range(N))"
   ]
  },
  {
   "cell_type": "code",
   "execution_count": 76,
   "metadata": {},
   "outputs": [],
   "source": [
    "from traitlets.traitlets import Callable\n",
    "import itertools\n",
    "\n",
    "def remove_duplicates(list_):\n",
    "  list_ = list(k for k,_ in itertools.groupby(list_))\n",
    "\n",
    "  return list_\n",
    "\n",
    "def sort_by(list_: list, key: Callable = None):\n",
    "  list_.sort(key=key)\n",
    "  return list_\n",
    "  \n",
    "def preproc(problem, rem_dup=False, sort=False, f:Callable = None):\n",
    "  problem= sort_by(problem, key=f)\n",
    "  problem= remove_duplicates(problem)\n",
    "  return problem"
   ]
  },
  {
   "cell_type": "code",
   "execution_count": 77,
   "metadata": {},
   "outputs": [],
   "source": [
    "Individual = namedtuple(\"Individual\", [\"genome\", \"fitness\"])\n",
    "\n",
    "def create_genome(problem):\n",
    "    genome = []\n",
    "    numbers_found = set()\n",
    "\n",
    "    while numbers_found != GOAL:\n",
    "\n",
    "        n_random = random.choice(range(0, len(problem)))\n",
    "        genome.append(tuple(problem[n_random]))\n",
    "        numbers_found |= set(problem[n_random])\n",
    "\n",
    "        problem.pop(n_random)\n",
    "        \n",
    "    return genome\n",
    "    \n",
    "def onemax(genome):\n",
    "    return sum(genome)\n",
    "\n",
    "def fitness(genome):\n",
    "    cnt = Counter()\n",
    "    cnt.update(sum((e for e in genome), start=()))\n",
    "    return tuple([sum(cnt[c] - 1 for c in cnt if cnt[c] > 1), -sum(cnt[c] == 1 for c in cnt)])\n",
    "\n",
    "    # return sum(len(element) for element in genome)\n",
    "\n",
    "\n",
    "def tournament(population, tournament_size=2):\n",
    "    return min(random.choices(population, k=tournament_size), key=lambda i: i.fitness)\n",
    "\n",
    "\n",
    "def cross_over(g1, g2):\n",
    "\n",
    "    \n",
    "    cut = random.randint(0, len(g1))\n",
    "    return g1[:cut] + g2[cut:]\n",
    "\n",
    "\n",
    "def mutation(g, problem):\n",
    "\n",
    "    point = random.randint(0, len(g) - 1)\n",
    "    g.pop(point)\n",
    "\n",
    "    numbers_found = set()\n",
    "    for element in g:\n",
    "        numbers_found != set(element)\n",
    "\n",
    "    steps = 0\n",
    "\n",
    "    while numbers_found != GOAL:\n",
    "        steps += 1\n",
    "\n",
    "        if steps == 10000:\n",
    "            return None\n",
    "        n_random = random.choice(range(0, len(problem)))\n",
    "\n",
    "        if not any(list == tuple(problem[n_random]) for list in g):\n",
    "            g.append(tuple(problem[n_random]))\n",
    "            numbers_found |= set(problem[n_random])\n",
    "\n",
    "            problem.pop(n_random)\n",
    "\n",
    "    return g"
   ]
  },
  {
   "cell_type": "markdown",
   "metadata": {},
   "source": [
    "**Problem Definition**"
   ]
  },
  {
   "cell_type": "code",
   "execution_count": 78,
   "metadata": {},
   "outputs": [],
   "source": [
    "def problem(N, seed=42):\n",
    "    random.seed(seed)\n",
    "    return [\n",
    "        list(set(random.randint(0, N - 1) for n in range(random.randint(N // 5, N // 2))))\n",
    "        for n in range(random.randint(N, N * 5))\n",
    "    ]"
   ]
  },
  {
   "cell_type": "markdown",
   "metadata": {},
   "source": [
    "## Genetic Algorithm"
   ]
  },
  {
   "cell_type": "markdown",
   "metadata": {},
   "source": [
    "### Initial Population"
   ]
  },
  {
   "cell_type": "code",
   "execution_count": 79,
   "metadata": {},
   "outputs": [],
   "source": [
    "population = list()\n",
    "\n",
    "all_list = preproc(problem(N))\n",
    "\n",
    "for _ in range(POPULATION_SIZE):\n",
    "    \n",
    "    genome = create_genome(all_list.copy())\n",
    "    population.append(Individual(genome, fitness(genome)))\n",
    "\n",
    "logging.info(f\"init: pop_size={len(population)}; min={min(population, key=lambda i: i.fitness)[1]}\")"
   ]
  },
  {
   "cell_type": "markdown",
   "metadata": {},
   "source": [
    "### Evolution"
   ]
  },
  {
   "cell_type": "code",
   "execution_count": 80,
   "metadata": {},
   "outputs": [
    {
     "name": "stdout",
     "output_type": "stream",
     "text": [
      "Winner:  Individual(genome=[(2, 10, 7), (8, 2, 12), (9, 11, 4, 6), (0, 1, 3, 5, 10, 13)], fitness=(2, -12))\n",
      "Cost:  16\n"
     ]
    }
   ],
   "source": [
    "# fitness_log = [(0, i.fitness) for i in population]\n",
    "\n",
    "for g in range(NUM_GENERATIONS):\n",
    "    offspring = list()\n",
    "    for i in range(OFFSPRING_SIZE):\n",
    "        # if random.random() < 0.3:\n",
    "        p = tournament(population.copy())\n",
    "        o = mutation(p.genome.copy(), all_list.copy())\n",
    "\n",
    "        if o == None:\n",
    "            continue\n",
    "        # else:\n",
    "        #     p1 = tournament(population)\n",
    "        #     p2 = tournament(population)\n",
    "        #     o = cross_over(p1.genome, p2.genome)\n",
    "        f = fitness(o)\n",
    "        # fitness_log.append((g + 1, f))\n",
    "        \n",
    "        offspring.append(Individual(o, fitness(o)))\n",
    "        \n",
    "    population+=offspring\n",
    "    population = sorted(population, key=lambda i: i.fitness)[:POPULATION_SIZE]\n",
    "    \n",
    "\n",
    "print(\"Winner: \", population[0])\n",
    "print(\"Cost: \", sum(len(element) for element in population[0].genome))\n"
   ]
  }
 ],
 "metadata": {
  "kernelspec": {
   "display_name": "Python 3.10.6 ('venv')",
   "language": "python",
   "name": "python3"
  },
  "language_info": {
   "codemirror_mode": {
    "name": "ipython",
    "version": 3
   },
   "file_extension": ".py",
   "mimetype": "text/x-python",
   "name": "python",
   "nbconvert_exporter": "python",
   "pygments_lexer": "ipython3",
   "version": "3.10.6"
  },
  "orig_nbformat": 4,
  "vscode": {
   "interpreter": {
    "hash": "f7f6130942023c4e497e869b68f37e712da14dab2336769063882d8b350699c3"
   }
  }
 },
 "nbformat": 4,
 "nbformat_minor": 2
}
